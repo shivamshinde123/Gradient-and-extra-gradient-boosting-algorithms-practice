{
 "cells": [
  {
   "cell_type": "code",
   "execution_count": 1,
   "id": "f3a13035",
   "metadata": {},
   "outputs": [],
   "source": [
    "import pandas as pd\n",
    "import numpy as np"
   ]
  },
  {
   "cell_type": "code",
   "execution_count": 2,
   "id": "c5170c76",
   "metadata": {},
   "outputs": [],
   "source": [
    "df = pd.read_csv('advertising.csv')"
   ]
  },
  {
   "cell_type": "code",
   "execution_count": 3,
   "id": "279030fb",
   "metadata": {},
   "outputs": [
    {
     "data": {
      "text/plain": [
       "(200, 5)"
      ]
     },
     "execution_count": 3,
     "metadata": {},
     "output_type": "execute_result"
    }
   ],
   "source": [
    "df.shape"
   ]
  },
  {
   "cell_type": "code",
   "execution_count": 4,
   "id": "27c1d028",
   "metadata": {},
   "outputs": [
    {
     "data": {
      "text/html": [
       "<div>\n",
       "<style scoped>\n",
       "    .dataframe tbody tr th:only-of-type {\n",
       "        vertical-align: middle;\n",
       "    }\n",
       "\n",
       "    .dataframe tbody tr th {\n",
       "        vertical-align: top;\n",
       "    }\n",
       "\n",
       "    .dataframe thead th {\n",
       "        text-align: right;\n",
       "    }\n",
       "</style>\n",
       "<table border=\"1\" class=\"dataframe\">\n",
       "  <thead>\n",
       "    <tr style=\"text-align: right;\">\n",
       "      <th></th>\n",
       "      <th>Unnamed: 0</th>\n",
       "      <th>TV</th>\n",
       "      <th>Radio</th>\n",
       "      <th>Newspaper</th>\n",
       "      <th>Sales</th>\n",
       "    </tr>\n",
       "  </thead>\n",
       "  <tbody>\n",
       "    <tr>\n",
       "      <th>0</th>\n",
       "      <td>1</td>\n",
       "      <td>230.1</td>\n",
       "      <td>37.8</td>\n",
       "      <td>69.2</td>\n",
       "      <td>22.1</td>\n",
       "    </tr>\n",
       "    <tr>\n",
       "      <th>1</th>\n",
       "      <td>2</td>\n",
       "      <td>44.5</td>\n",
       "      <td>39.3</td>\n",
       "      <td>45.1</td>\n",
       "      <td>10.4</td>\n",
       "    </tr>\n",
       "    <tr>\n",
       "      <th>2</th>\n",
       "      <td>3</td>\n",
       "      <td>17.2</td>\n",
       "      <td>45.9</td>\n",
       "      <td>69.3</td>\n",
       "      <td>9.3</td>\n",
       "    </tr>\n",
       "    <tr>\n",
       "      <th>3</th>\n",
       "      <td>4</td>\n",
       "      <td>151.5</td>\n",
       "      <td>41.3</td>\n",
       "      <td>58.5</td>\n",
       "      <td>18.5</td>\n",
       "    </tr>\n",
       "    <tr>\n",
       "      <th>4</th>\n",
       "      <td>5</td>\n",
       "      <td>180.8</td>\n",
       "      <td>10.8</td>\n",
       "      <td>58.4</td>\n",
       "      <td>12.9</td>\n",
       "    </tr>\n",
       "  </tbody>\n",
       "</table>\n",
       "</div>"
      ],
      "text/plain": [
       "   Unnamed: 0     TV  Radio  Newspaper  Sales\n",
       "0           1  230.1   37.8       69.2   22.1\n",
       "1           2   44.5   39.3       45.1   10.4\n",
       "2           3   17.2   45.9       69.3    9.3\n",
       "3           4  151.5   41.3       58.5   18.5\n",
       "4           5  180.8   10.8       58.4   12.9"
      ]
     },
     "execution_count": 4,
     "metadata": {},
     "output_type": "execute_result"
    }
   ],
   "source": [
    "df.head()"
   ]
  },
  {
   "cell_type": "code",
   "execution_count": 5,
   "id": "10e1e8f8",
   "metadata": {},
   "outputs": [],
   "source": [
    "df = df.iloc[:,1:]"
   ]
  },
  {
   "cell_type": "code",
   "execution_count": 6,
   "id": "bd944cf3",
   "metadata": {},
   "outputs": [
    {
     "data": {
      "text/html": [
       "<div>\n",
       "<style scoped>\n",
       "    .dataframe tbody tr th:only-of-type {\n",
       "        vertical-align: middle;\n",
       "    }\n",
       "\n",
       "    .dataframe tbody tr th {\n",
       "        vertical-align: top;\n",
       "    }\n",
       "\n",
       "    .dataframe thead th {\n",
       "        text-align: right;\n",
       "    }\n",
       "</style>\n",
       "<table border=\"1\" class=\"dataframe\">\n",
       "  <thead>\n",
       "    <tr style=\"text-align: right;\">\n",
       "      <th></th>\n",
       "      <th>TV</th>\n",
       "      <th>Radio</th>\n",
       "      <th>Newspaper</th>\n",
       "      <th>Sales</th>\n",
       "    </tr>\n",
       "  </thead>\n",
       "  <tbody>\n",
       "    <tr>\n",
       "      <th>0</th>\n",
       "      <td>230.1</td>\n",
       "      <td>37.8</td>\n",
       "      <td>69.2</td>\n",
       "      <td>22.1</td>\n",
       "    </tr>\n",
       "    <tr>\n",
       "      <th>1</th>\n",
       "      <td>44.5</td>\n",
       "      <td>39.3</td>\n",
       "      <td>45.1</td>\n",
       "      <td>10.4</td>\n",
       "    </tr>\n",
       "    <tr>\n",
       "      <th>2</th>\n",
       "      <td>17.2</td>\n",
       "      <td>45.9</td>\n",
       "      <td>69.3</td>\n",
       "      <td>9.3</td>\n",
       "    </tr>\n",
       "    <tr>\n",
       "      <th>3</th>\n",
       "      <td>151.5</td>\n",
       "      <td>41.3</td>\n",
       "      <td>58.5</td>\n",
       "      <td>18.5</td>\n",
       "    </tr>\n",
       "    <tr>\n",
       "      <th>4</th>\n",
       "      <td>180.8</td>\n",
       "      <td>10.8</td>\n",
       "      <td>58.4</td>\n",
       "      <td>12.9</td>\n",
       "    </tr>\n",
       "  </tbody>\n",
       "</table>\n",
       "</div>"
      ],
      "text/plain": [
       "      TV  Radio  Newspaper  Sales\n",
       "0  230.1   37.8       69.2   22.1\n",
       "1   44.5   39.3       45.1   10.4\n",
       "2   17.2   45.9       69.3    9.3\n",
       "3  151.5   41.3       58.5   18.5\n",
       "4  180.8   10.8       58.4   12.9"
      ]
     },
     "execution_count": 6,
     "metadata": {},
     "output_type": "execute_result"
    }
   ],
   "source": [
    "df.head()"
   ]
  },
  {
   "cell_type": "code",
   "execution_count": 7,
   "id": "e3919111",
   "metadata": {},
   "outputs": [
    {
     "data": {
      "text/plain": [
       "<AxesSubplot:>"
      ]
     },
     "execution_count": 7,
     "metadata": {},
     "output_type": "execute_result"
    },
    {
     "data": {
      "image/png": "[encoded data removed]",
      "text/plain": [
       "<Figure size 432x288 with 1 Axes>"
      ]
     },
     "metadata": {
      "needs_background": "light"
     },
     "output_type": "display_data"
    }
   ],
   "source": [
    "df.boxplot()"
   ]
  },
  {
   "cell_type": "code",
   "execution_count": 8,
   "id": "b9573c18",
   "metadata": {},
   "outputs": [],
   "source": [
    "X, y = df.iloc[:,:-1], df.iloc[:,-1]"
   ]
  },
  {
   "cell_type": "code",
   "execution_count": 9,
   "id": "26f4278b",
   "metadata": {},
   "outputs": [],
   "source": [
    "from sklearn.model_selection import train_test_split\n",
    "\n",
    "X_train, X_test, y_train, y_test = train_test_split(X, y, test_size=0.2, random_state=348957)"
   ]
  },
  {
   "cell_type": "markdown",
   "id": "4a08294d",
   "metadata": {},
   "source": [
    "## Gradient boosting algorithm"
   ]
  },
  {
   "cell_type": "code",
   "execution_count": 10,
   "id": "2e4bacd0",
   "metadata": {},
   "outputs": [
    {
     "data": {
      "text/plain": [
       "GradientBoostingRegressor(max_depth=2, n_estimators=200)"
      ]
     },
     "execution_count": 10,
     "metadata": {},
     "output_type": "execute_result"
    }
   ],
   "source": [
    "from sklearn.ensemble import GradientBoostingRegressor\n",
    "\n",
    "gbr = GradientBoostingRegressor(max_depth=2,n_estimators=200)\n",
    "gbr.fit(X_train,y_train)"
   ]
  },
  {
   "cell_type": "code",
   "execution_count": 11,
   "id": "04a1f3f8",
   "metadata": {},
   "outputs": [],
   "source": [
    "## finding the errors at each step\n",
    "from sklearn.metrics import mean_squared_error\n",
    "\n",
    "errors = [mean_squared_error(y_test,y_pred) for y_pred in gbr.staged_predict(X_test)]\n",
    "\n",
    "# finding the location of the minimum error in the errors list and that position will give us the optimal number of tree for \n",
    "# gradient boosting\n",
    "\n",
    "best_n_estimator = np.argmin(errors) + 1"
   ]
  },
  {
   "cell_type": "code",
   "execution_count": 12,
   "id": "b7402407",
   "metadata": {},
   "outputs": [
    {
     "data": {
      "text/plain": [
       "GradientBoostingRegressor(max_depth=2, n_estimators=194)"
      ]
     },
     "execution_count": 12,
     "metadata": {},
     "output_type": "execute_result"
    }
   ],
   "source": [
    "## now again fitting the data on the gradient boost with the obtained optimal number of trees\n",
    "\n",
    "gbr_best = GradientBoostingRegressor(max_depth=2,n_estimators=best_n_estimator)\n",
    "gbr_best.fit(X_train,y_train)"
   ]
  },
  {
   "cell_type": "code",
   "execution_count": 13,
   "id": "6393aab4",
   "metadata": {},
   "outputs": [],
   "source": [
    "## finding the predicted values\n",
    "\n",
    "y_pred = gbr_best.predict(X_test)"
   ]
  },
  {
   "cell_type": "code",
   "execution_count": 14,
   "id": "cccbb54c",
   "metadata": {},
   "outputs": [],
   "source": [
    "## creating a function to find the r2 adjusted score for the Gradient boost regressor\n",
    "\n",
    "def r2_adj(r):\n",
    "    n = df.shape[0]\n",
    "    m = df.shape[1]\n",
    "    result = 1 - ((1-r**2)*((n-1)/(n-m-1)))\n",
    "    return result"
   ]
  },
  {
   "cell_type": "code",
   "execution_count": 17,
   "id": "98f11ec4",
   "metadata": {},
   "outputs": [
    {
     "name": "stdout",
     "output_type": "stream",
     "text": [
      "The r2 score for the gradient boosting algorithm is 0.982\n",
      "The r2 adjusted score for the gradient boosting algorithm is 0.963\n"
     ]
    }
   ],
   "source": [
    "from sklearn.metrics import r2_score\n",
    "\n",
    "print(f\"The r2 score for the gradient boosting algorithm is {np.round(r2_score(y_test,y_pred),3)}\")\n",
    "print(f\"The r2 adjusted score for the gradient boosting algorithm is {np.round(r2_adj(r2_score(y_test,y_pred)),3)}\")"
   ]
  },
  {
   "cell_type": "markdown",
   "id": "5144da23",
   "metadata": {},
   "source": [
    "## Extreme gradient boosting"
   ]
  },
  {
   "cell_type": "code",
   "execution_count": 19,
   "id": "36a40c32",
   "metadata": {},
   "outputs": [],
   "source": [
    "import xgboost"
   ]
  },
  {
   "cell_type": "code",
   "execution_count": 24,
   "id": "9928b554",
   "metadata": {},
   "outputs": [
    {
     "name": "stdout",
     "output_type": "stream",
     "text": [
      "[0]\tvalidation_0-rmse:9.69440\n",
      "[1]\tvalidation_0-rmse:6.89623\n",
      "[2]\tvalidation_0-rmse:4.96964\n",
      "[3]\tvalidation_0-rmse:3.60131\n",
      "[4]\tvalidation_0-rmse:2.65508\n",
      "[5]\tvalidation_0-rmse:1.98892\n",
      "[6]\tvalidation_0-rmse:1.54476\n",
      "[7]\tvalidation_0-rmse:1.24049\n",
      "[8]\tvalidation_0-rmse:1.04111\n",
      "[9]\tvalidation_0-rmse:0.91201\n",
      "[10]\tvalidation_0-rmse:0.83840\n",
      "[11]\tvalidation_0-rmse:0.80183\n",
      "[12]\tvalidation_0-rmse:0.78051\n",
      "[13]\tvalidation_0-rmse:0.75691\n",
      "[14]\tvalidation_0-rmse:0.73347\n",
      "[15]\tvalidation_0-rmse:0.72156\n",
      "[16]\tvalidation_0-rmse:0.71323\n",
      "[17]\tvalidation_0-rmse:0.70673\n",
      "[18]\tvalidation_0-rmse:0.70327\n",
      "[19]\tvalidation_0-rmse:0.70259\n",
      "[20]\tvalidation_0-rmse:0.69861\n",
      "[21]\tvalidation_0-rmse:0.69720\n",
      "[22]\tvalidation_0-rmse:0.69507\n",
      "[23]\tvalidation_0-rmse:0.69279\n",
      "[24]\tvalidation_0-rmse:0.68772\n",
      "[25]\tvalidation_0-rmse:0.68107\n",
      "[26]\tvalidation_0-rmse:0.68122\n",
      "[27]\tvalidation_0-rmse:0.68182\n",
      "[28]\tvalidation_0-rmse:0.68218\n",
      "[29]\tvalidation_0-rmse:0.68223\n"
     ]
    },
    {
     "data": {
      "text/plain": [
       "XGBRegressor(base_score=0.5, booster='gbtree', colsample_bylevel=1,\n",
       "             colsample_bynode=1, colsample_bytree=1, enable_categorical=False,\n",
       "             gamma=0, gpu_id=-1, importance_type=None,\n",
       "             interaction_constraints='', learning_rate=0.300000012,\n",
       "             max_delta_step=0, max_depth=6, min_child_weight=1, missing=nan,\n",
       "             monotone_constraints='()', n_estimators=100, n_jobs=8,\n",
       "             num_parallel_tree=1, predictor='auto', random_state=0, reg_alpha=0,\n",
       "             reg_lambda=1, scale_pos_weight=1, subsample=1, tree_method='exact',\n",
       "             validate_parameters=1, verbosity=None)"
      ]
     },
     "execution_count": 24,
     "metadata": {},
     "output_type": "execute_result"
    }
   ],
   "source": [
    "xgb = xgboost.XGBRegressor()\n",
    "xgb.fit(X_train,y_train,eval_set=[(X_test,y_test)],early_stopping_rounds=5)\n",
    "\n",
    "## note: early_stopping_rounds parameter will stop the training once we find the same residual given number of times"
   ]
  },
  {
   "cell_type": "code",
   "execution_count": 25,
   "id": "845a7d9e",
   "metadata": {},
   "outputs": [],
   "source": [
    "y_pred_xgb = xgb.predict(X_test)"
   ]
  },
  {
   "cell_type": "code",
   "execution_count": 27,
   "id": "77116e3b",
   "metadata": {},
   "outputs": [
    {
     "name": "stdout",
     "output_type": "stream",
     "text": [
      "The r2 score for the extreme gradient boosting algorithm is 0.978\n",
      "The r2 adjusted score for the extreme gradient boosting algorithm is 0.955\n"
     ]
    }
   ],
   "source": [
    "print(f\"The r2 score for the extreme gradient boosting algorithm is {np.round(r2_score(y_test,y_pred_xgb),3)}\")\n",
    "print(f\"The r2 adjusted score for the extreme gradient boosting algorithm is {np.round(r2_adj(r2_score(y_test,y_pred_xgb)),3)}\")"
   ]
  },
  {
   "cell_type": "code",
   "execution_count": 28,
   "id": "bb89ad87",
   "metadata": {},
   "outputs": [
    {
     "data": {
      "text/plain": [
       "Ridge(alpha=1)"
      ]
     },
     "execution_count": 28,
     "metadata": {},
     "output_type": "execute_result"
    }
   ],
   "source": [
    "from sklearn.linear_model import Ridge\n",
    "\n",
    "ridge = Ridge(alpha=1)\n",
    "ridge.fit(X_train,y_train)"
   ]
  },
  {
   "cell_type": "code",
   "execution_count": 29,
   "id": "50b2e19b",
   "metadata": {},
   "outputs": [],
   "source": [
    "y_pred_ridge = ridge.predict(X_test)"
   ]
  },
  {
   "cell_type": "code",
   "execution_count": 31,
   "id": "195b6260",
   "metadata": {},
   "outputs": [
    {
     "name": "stdout",
     "output_type": "stream",
     "text": [
      "The r2 score for the ridge regression algorithm is 0.884\n",
      "The r2 adjusted score for the ridge regression algorithm is 0.777\n"
     ]
    }
   ],
   "source": [
    "print(f\"The r2 score for the ridge regression algorithm is {np.round(r2_score(y_test,y_pred_ridge),3)}\")\n",
    "print(f\"The r2 adjusted score for the ridge regression algorithm is {np.round(r2_adj(r2_score(y_test,y_pred_ridge)),3)}\")"
   ]
  },
  {
   "cell_type": "markdown",
   "id": "9e262703",
   "metadata": {},
   "source": [
    "**Results look much better in case of boosting algorithms than the ridge regression (linear model)**"
   ]
  },
  {
   "cell_type": "code",
   "execution_count": null,
   "id": "33ddac6b",
   "metadata": {},
   "outputs": [],
   "source": []
  }
 ],
 "metadata": {
  "kernelspec": {
   "display_name": "Python 3 (ipykernel)",
   "language": "python",
   "name": "python3"
  },
  "language_info": {
   "codemirror_mode": {
    "name": "ipython",
    "version": 3
   },
   "file_extension": ".py",
   "mimetype": "text/x-python",
   "name": "python",
   "nbconvert_exporter": "python",
   "pygments_lexer": "ipython3",
   "version": "3.10.0"
  }
 },
 "nbformat": 4,
 "nbformat_minor": 5
}
